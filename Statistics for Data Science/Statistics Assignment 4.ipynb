{
 "cells": [
  {
   "cell_type": "markdown",
   "metadata": {},
   "source": [
    "#### 1. What is the definition of covariance? Create the formula for it."
   ]
  },
  {
   "cell_type": "markdown",
   "metadata": {},
   "source": [
    "Covariance measures the relationship between two variables. That is it measures whether the variables are positively correlated\n",
    "\n",
    "or negatively correlated to eachother."
   ]
  },
  {
   "cell_type": "code",
   "execution_count": null,
   "metadata": {},
   "outputs": [],
   "source": []
  },
  {
   "cell_type": "markdown",
   "metadata": {},
   "source": [
    "Cov(X,Y)= sum((x[i]-myu)*(y[i]-myu)) / N   for population.\n",
    "                          \n",
    "Where, 1 <= i <=N \n",
    "                        \n",
    "myu= Population mean\n",
    "\n",
    "N= Population size"
   ]
  },
  {
   "cell_type": "code",
   "execution_count": null,
   "metadata": {},
   "outputs": [],
   "source": []
  },
  {
   "cell_type": "markdown",
   "metadata": {},
   "source": [
    "Cov(x,y)= sum((x[i]-xbar)*(y[i]-xbar)) / (n-1)   for sample.\n",
    "                          \n",
    "Where, 1 <= i <=n\n",
    "                        \n",
    "xbar= sample mean\n",
    "\n",
    "n= Population size"
   ]
  },
  {
   "cell_type": "code",
   "execution_count": null,
   "metadata": {},
   "outputs": [],
   "source": []
  },
  {
   "cell_type": "markdown",
   "metadata": {},
   "source": [
    "#### 2. What makes Correlations better than Covariance?"
   ]
  },
  {
   "cell_type": "markdown",
   "metadata": {},
   "source": [
    "Covariance measures the realtionship between two variables in form of numerical value. But is not capable of measuring upto \n",
    "\n",
    "what extent or how strongly it is correlated. Hence, there is need of correlation.\n",
    "\n",
    "-1 <= Correlation <= 1\n",
    "\n",
    "The more the value shifts towards -1 more strong negative correlation variables have.\n",
    "\n",
    "The more the value shifts toward +1 more strong positive correlation the variables have\n"
   ]
  },
  {
   "cell_type": "code",
   "execution_count": null,
   "metadata": {},
   "outputs": [],
   "source": []
  },
  {
   "cell_type": "markdown",
   "metadata": {},
   "source": [
    "#### 3. Explain the process as well as Pearson and Spearman Correlation."
   ]
  },
  {
   "cell_type": "markdown",
   "metadata": {},
   "source": [
    "Pearson Correlation (Rho) =  Cov(X,Y) / (SigmaX * SigmaY)\n",
    "\n",
    "-1 <= Rho <= 1\n",
    "\n",
    "Spearman Rank Correlation (r) = Cov(Rx, Ry) / (SigmaRx, SigmaRy)   Where, R:Rank\n",
    "\n",
    "-1 <= r <=1"
   ]
  },
  {
   "cell_type": "markdown",
   "metadata": {},
   "source": [
    "The more the value shifts towards -1 more strong negative correlation variables have.\n",
    "\n",
    "The more the value shifts toward +1 more strong positive correlation the variables have"
   ]
  },
  {
   "cell_type": "markdown",
   "metadata": {},
   "source": [
    "In Spearman's Rank Correlation The highest value in data is given rank 1, then rank 2 and so on. And then, the covariance and \n",
    "variance formulae are applied on ranks. which are substituted in above given formula to get the value."
   ]
  },
  {
   "cell_type": "code",
   "execution_count": null,
   "metadata": {},
   "outputs": [],
   "source": []
  },
  {
   "cell_type": "markdown",
   "metadata": {},
   "source": [
    "#### 4. What are the advantages of Spearman Correlation over Pearson Correlation?"
   ]
  },
  {
   "cell_type": "markdown",
   "metadata": {},
   "source": [
    "Spearman's Rank Correlation (r) is better in capturing the Non-linear Properties of the data in comparison with the Pearson's Correlation (Rho) ."
   ]
  },
  {
   "cell_type": "code",
   "execution_count": null,
   "metadata": {},
   "outputs": [],
   "source": []
  },
  {
   "cell_type": "markdown",
   "metadata": {},
   "source": [
    "#### 5. Describe the Central Limit Theorem."
   ]
  },
  {
   "cell_type": "markdown",
   "metadata": {},
   "source": [
    "Central Limit Theorem State that Regardless the shape of Population Distribution, The Distribution of its Sample means will be approximately Normal. i.e. N(myu , Sigma**2/n)"
   ]
  },
  {
   "cell_type": "markdown",
   "metadata": {},
   "source": [
    "Sample size of the sample means >= 30"
   ]
  },
  {
   "cell_type": "markdown",
   "metadata": {},
   "source": [
    "This Distribution will be more normal as the sample size Increases."
   ]
  },
  {
   "cell_type": "code",
   "execution_count": null,
   "metadata": {},
   "outputs": [],
   "source": []
  }
 ],
 "metadata": {
  "kernelspec": {
   "display_name": "Python 3",
   "language": "python",
   "name": "python3"
  },
  "language_info": {
   "codemirror_mode": {
    "name": "ipython",
    "version": 3
   },
   "file_extension": ".py",
   "mimetype": "text/x-python",
   "name": "python",
   "nbconvert_exporter": "python",
   "pygments_lexer": "ipython3",
   "version": "3.6.5"
  }
 },
 "nbformat": 4,
 "nbformat_minor": 2
}
