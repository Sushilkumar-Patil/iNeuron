{
 "cells": [
  {
   "cell_type": "markdown",
   "metadata": {},
   "source": [
    "#### 1. What exactly is the difference between descriptive and inferential statistics?"
   ]
  },
  {
   "cell_type": "markdown",
   "metadata": {},
   "source": [
    "Descriptive Statistics Includes Organizing and Summarizing the data.\n",
    "\n",
    "It Includes use Measures of Central Tendency (Mean, Mode, Median) and Measure of Dispersion(Variance and Standard Deviation)."
   ]
  },
  {
   "cell_type": "markdown",
   "metadata": {},
   "source": [
    "Whereas, Inferential statistics includes Collection of Data, Performing experiments on the sample collected and making \n",
    "Conclusions and Inferences for population.\n",
    "\n",
    "Here basically sample data is used to potray information about population data.\n",
    "\n",
    "eg: Hypothesis Testing"
   ]
  },
  {
   "cell_type": "code",
   "execution_count": null,
   "metadata": {},
   "outputs": [],
   "source": []
  },
  {
   "cell_type": "markdown",
   "metadata": {},
   "source": [
    "#### 2. I'm not sure what is the difference between a sample and a population?"
   ]
  },
  {
   "cell_type": "markdown",
   "metadata": {},
   "source": [
    "Sample Data is subset (small part) of population Data. It's Expensive and time consuming to collect and perform experiments on \n",
    "Huge number of Data points in Population (For eg: Exit poll on India's Election.). Hence, we perform experiments on samller \n",
    "subsets (sample) and Interpret results about the population.\n",
    "                                          \n",
    "Inshort sample being subset of population is used to estimate population parameters.                                        "
   ]
  },
  {
   "cell_type": "code",
   "execution_count": null,
   "metadata": {},
   "outputs": [],
   "source": []
  },
  {
   "cell_type": "markdown",
   "metadata": {},
   "source": [
    "#### 3. What distinguishes descriptive statistics from other types of statistics?"
   ]
  },
  {
   "cell_type": "markdown",
   "metadata": {},
   "source": [
    "Descriptive Statistics focuses on visible characteristics of Data. Whereas, Inferential Statistics tries to find out \n",
    "characterisic by performing tests on the data.\n",
    "\n",
    "Descriptive Statistics Summarizes the data. Inferential Statistics analyzes the data."
   ]
  },
  {
   "cell_type": "code",
   "execution_count": null,
   "metadata": {},
   "outputs": [],
   "source": []
  },
  {
   "cell_type": "markdown",
   "metadata": {},
   "source": [
    "#### 4. What is the difference between quantitative and qualitative data?"
   ]
  },
  {
   "cell_type": "markdown",
   "metadata": {},
   "source": [
    "Quantitative Data is in numerical form. It is countable.\n",
    "Eg: Age, Marks.\n",
    "    \n",
    "Qualitative data is in form of charachters.\n",
    "eg: Gender, Dogs Breed.\n"
   ]
  },
  {
   "cell_type": "code",
   "execution_count": null,
   "metadata": {},
   "outputs": [],
   "source": []
  },
  {
   "cell_type": "markdown",
   "metadata": {},
   "source": [
    "#### 5. What is the definition of a percentile?"
   ]
  },
  {
   "cell_type": "markdown",
   "metadata": {},
   "source": [
    "Percentile is amount below which a specific percentage of data falls.\n",
    "\n",
    "for eg: Suppose if 25th percentile of a data is 30. Then, 25 percentage of data population falls under the value 30."
   ]
  },
  {
   "cell_type": "code",
   "execution_count": null,
   "metadata": {},
   "outputs": [],
   "source": []
  },
  {
   "cell_type": "code",
   "execution_count": null,
   "metadata": {},
   "outputs": [],
   "source": []
  }
 ],
 "metadata": {
  "kernelspec": {
   "display_name": "Python 3",
   "language": "python",
   "name": "python3"
  },
  "language_info": {
   "codemirror_mode": {
    "name": "ipython",
    "version": 3
   },
   "file_extension": ".py",
   "mimetype": "text/x-python",
   "name": "python",
   "nbconvert_exporter": "python",
   "pygments_lexer": "ipython3",
   "version": "3.6.5"
  }
 },
 "nbformat": 4,
 "nbformat_minor": 2
}
