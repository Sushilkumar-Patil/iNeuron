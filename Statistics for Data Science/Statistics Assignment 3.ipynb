{
 "cells": [
  {
   "cell_type": "markdown",
   "metadata": {},
   "source": [
    "#### 1. Write the Gaussian Distribution empirical formula."
   ]
  },
  {
   "cell_type": "markdown",
   "metadata": {},
   "source": [
    "Guassian Distribution empirical formula is as follows :\n",
    "\n",
    "P(myu-1*(sigma) <=  x <= myu+1*(sigma)) = 68 percent\n",
    "\n",
    "P(myu-2*(sigma) <=  x <= myu+2*(sigma)) = 95 percent\n",
    "\n",
    "P(myu-3*(sigma) <=  x <= myu+3*(sigma)) = 99.7 percent"
   ]
  },
  {
   "cell_type": "code",
   "execution_count": null,
   "metadata": {},
   "outputs": [],
   "source": []
  },
  {
   "cell_type": "markdown",
   "metadata": {},
   "source": [
    "#### 2. What is the Z-score, and why is it important?"
   ]
  },
  {
   "cell_type": "markdown",
   "metadata": {},
   "source": [
    "Z-score = (X[i] - myu) / sigma\n",
    "\n",
    "Z-score can be used to compare scores in different distribution.\n",
    "\n",
    "Z-score is used for standardization of data. The variables in data may have different measurement units. In order to bring the \n",
    "the data points under one scale we use the Z-Score formula."
   ]
  },
  {
   "cell_type": "code",
   "execution_count": null,
   "metadata": {},
   "outputs": [],
   "source": []
  },
  {
   "cell_type": "markdown",
   "metadata": {},
   "source": [
    "#### 3. What is an outlier, exactly?"
   ]
  },
  {
   "cell_type": "markdown",
   "metadata": {},
   "source": [
    "Outlier is the far away data point in our dataset which affects the mean of dataset. Some of the Outliers could be valid and some of them are produced due to errors. Outliers affect the distribution of data and hence, handling them is an Important task."
   ]
  },
  {
   "cell_type": "code",
   "execution_count": null,
   "metadata": {},
   "outputs": [],
   "source": []
  },
  {
   "cell_type": "markdown",
   "metadata": {},
   "source": [
    "#### 4. What are our options for dealing with outliers in our dataset?"
   ]
  },
  {
   "cell_type": "markdown",
   "metadata": {},
   "source": [
    "Data points that lies below lower fence and above upper fence are considered to be an outlier where,"
   ]
  },
  {
   "cell_type": "markdown",
   "metadata": {},
   "source": [
    "1. 5 Number theory\n",
    "\n",
    "lower_fence = Q1 - 1.5*(Q3-Q1)\n",
    "\n",
    "upper_fence = Q3 + 1.5*(Q3-Q1)\n",
    "\n",
    "where Q1:  First Quartile  and  Q3:  Third Quartile"
   ]
  },
  {
   "cell_type": "code",
   "execution_count": null,
   "metadata": {},
   "outputs": [],
   "source": []
  },
  {
   "cell_type": "markdown",
   "metadata": {},
   "source": [
    "2. Three Std Deviation (This is alternative for the Z-score which identifies exactly same outliers for z-score > 3 and z-score < -3)\n",
    "\n",
    "lower_fence= Population Mean - 3*(std deviation)\n",
    "\n",
    "upper_fence= Population Mean + 3*(std deviation)"
   ]
  },
  {
   "cell_type": "code",
   "execution_count": null,
   "metadata": {},
   "outputs": [],
   "source": []
  },
  {
   "cell_type": "markdown",
   "metadata": {},
   "source": [
    "#### 5. Write the sample and population variances equations and explain Bessel Correction"
   ]
  },
  {
   "cell_type": "markdown",
   "metadata": {},
   "source": [
    "Population variance (sigma_square)  = sum((x[i] - myu)**2)/N\n",
    "\n",
    "Here, x[i] is data point and 1 <= i <= N\n",
    "\n",
    "myu: Population mean\n",
    "    \n",
    "N: Population size"
   ]
  },
  {
   "cell_type": "code",
   "execution_count": null,
   "metadata": {},
   "outputs": [],
   "source": []
  },
  {
   "cell_type": "markdown",
   "metadata": {},
   "source": [
    "Sample variance (S_square)  = sum((x[i] - xbar)**2)/(n-1)\n",
    "\n",
    "Here, x[i] is data point and 1 <= i <= n\n",
    "\n",
    "xbar: Sample mean\n",
    "    \n",
    "n: Sample size"
   ]
  },
  {
   "cell_type": "code",
   "execution_count": null,
   "metadata": {},
   "outputs": [],
   "source": []
  },
  {
   "cell_type": "markdown",
   "metadata": {},
   "source": [
    "The (n-1) in variance formula used instead of n is due to bessel's correction formula. \n",
    "Sample variance is the estimate of Population variance.\n",
    "\n",
    "i.e  S_square ~ Sigma_Square\n",
    "\n",
    "But, we can see that it is not always the same because in some cases sample mean may be far away from mean of population, \n",
    "\n",
    "and hence resulting sample variance away from population variance. In order to get this corrected, i.e. to shift variance of sample closer to that of \n",
    "\n",
    "population we divide sum((x[i] - xbar)**2) by n-1 so that the sample variance increases and estimates population variance more \n",
    "\n",
    "accurately. This is called as Unbiased Estimator."
   ]
  },
  {
   "cell_type": "code",
   "execution_count": null,
   "metadata": {},
   "outputs": [],
   "source": []
  },
  {
   "cell_type": "code",
   "execution_count": null,
   "metadata": {},
   "outputs": [],
   "source": []
  },
  {
   "cell_type": "code",
   "execution_count": null,
   "metadata": {},
   "outputs": [],
   "source": []
  }
 ],
 "metadata": {
  "kernelspec": {
   "display_name": "Python 3",
   "language": "python",
   "name": "python3"
  },
  "language_info": {
   "codemirror_mode": {
    "name": "ipython",
    "version": 3
   },
   "file_extension": ".py",
   "mimetype": "text/x-python",
   "name": "python",
   "nbconvert_exporter": "python",
   "pygments_lexer": "ipython3",
   "version": "3.6.5"
  }
 },
 "nbformat": 4,
 "nbformat_minor": 2
}
