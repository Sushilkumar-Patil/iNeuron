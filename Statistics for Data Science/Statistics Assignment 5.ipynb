{
 "cells": [
  {
   "cell_type": "markdown",
   "metadata": {},
   "source": [
    "#### 1. How are you going to figure out the average heights of all the trees in Karnataka?"
   ]
  },
  {
   "cell_type": "markdown",
   "metadata": {},
   "source": [
    "Let's Take a sample of 100 trees and suppose the mean of sample is 70 m, with an std deviation of say 9. Then, "
   ]
  },
  {
   "cell_type": "code",
   "execution_count": 1,
   "metadata": {},
   "outputs": [],
   "source": [
    "n=100\n",
    "xbar=70\n",
    "s=9\n",
    "alpha=0.01\n",
    "dof=n-1"
   ]
  },
  {
   "cell_type": "code",
   "execution_count": 2,
   "metadata": {},
   "outputs": [],
   "source": [
    "from scipy import stats\n",
    "import numpy as np"
   ]
  },
  {
   "cell_type": "code",
   "execution_count": 3,
   "metadata": {},
   "outputs": [],
   "source": [
    "t=stats.t.ppf(q=1-alpha, df=dof)"
   ]
  },
  {
   "cell_type": "code",
   "execution_count": 4,
   "metadata": {},
   "outputs": [],
   "source": [
    "CI=[round(xbar-t*(s/np.sqrt(n)),2), round(xbar+t*(s/np.sqrt(n)),2)]"
   ]
  },
  {
   "cell_type": "code",
   "execution_count": 5,
   "metadata": {},
   "outputs": [
    {
     "data": {
      "text/plain": [
       "[67.87, 72.13]"
      ]
     },
     "execution_count": 5,
     "metadata": {},
     "output_type": "execute_result"
    }
   ],
   "source": [
    "CI"
   ]
  },
  {
   "cell_type": "code",
   "execution_count": 6,
   "metadata": {},
   "outputs": [
    {
     "name": "stdout",
     "output_type": "stream",
     "text": [
      "At alpha equals 0.01 that is 99 per confidence interval the average heights of all the trees in karnataka should lie in between 67.87 and 72.13 meters.\n"
     ]
    }
   ],
   "source": [
    "print(f\"At alpha equals 0.01 that is 99 per confidence interval the average heights of all the trees in karnataka should lie in \\\n",
    "between {CI[0]} and {CI[1]} meters.\")"
   ]
  },
  {
   "cell_type": "code",
   "execution_count": null,
   "metadata": {},
   "outputs": [],
   "source": []
  },
  {
   "cell_type": "markdown",
   "metadata": {},
   "source": [
    "#### 2. What is hypothesis testing and how does it work?"
   ]
  },
  {
   "cell_type": "markdown",
   "metadata": {},
   "source": [
    "Hypothesis testing is part of inferential statistics. It Includes different kind of tests which are to performed at given\n",
    "significance value on the data provided.\n",
    "\n",
    "In Hypothesis testing:\n",
    "    \n",
    "1. We Set the Null Hypothesis H0 vs Alternative Hypothesis H1.\n",
    "\n",
    "\n",
    "2. Significance value (Alpha)\n",
    "\n",
    "\n",
    "3. Then we calculate the degree of freedom. Suppose we have n attributes then dof will be n-1.\n",
    "   Also, Calculate critical value(Tabulated).\n",
    "\n",
    "\n",
    "4. Decision rule: Calculate the Test Value(Calculated) (z, t, f whichever applies.)\n",
    "    \n",
    "    \n",
    "5. If |Test Value (Calculated)| > |Critical Value(Tabulated)| Reject H0, else Accept it."
   ]
  },
  {
   "cell_type": "code",
   "execution_count": null,
   "metadata": {},
   "outputs": [],
   "source": []
  },
  {
   "cell_type": "markdown",
   "metadata": {},
   "source": [
    "#### 3. Explain the differences between Alpha and Beta errors. Which inaccuracy is the most hazardous?"
   ]
  },
  {
   "cell_type": "markdown",
   "metadata": {},
   "source": [
    "Alpha is Probability(Type 1 Error) and Beta is Probability(Type 2 Error).\n",
    "\n",
    "Type 1 Error means Rejecting H0 when it is True. Type 2 error means accepting H0 When it is False.\n",
    "\n",
    "Altough most of the textbooks states that Type 1 Error is more Harmful than Type 2 Error.But this Still depends on the problem \n",
    "Statement we are solving for.\n",
    "\n",
    "For Eg: \n",
    "\n",
    "        Type 1 Error:\n",
    "        H0: He has cancer \n",
    "        A patient could die if we reject H0 when it is True and Dont treat him in time. \n",
    "        \n",
    "        \n",
    "        Type 2 Error:\n",
    "        H0: Medicine Do not have a effect on particular Disease.\n",
    "        A Medicine which is effective will be eliminated if we accept H0 even when it is False. And the patient \n",
    "        won't be treated with proper medication causing serious illness further."
   ]
  },
  {
   "cell_type": "code",
   "execution_count": null,
   "metadata": {},
   "outputs": [],
   "source": []
  },
  {
   "cell_type": "markdown",
   "metadata": {},
   "source": [
    "#### 4. What is the significance of the p-value?"
   ]
  },
  {
   "cell_type": "markdown",
   "metadata": {},
   "source": [
    "P-Value is the Probability that null Hypothesis is True."
   ]
  },
  {
   "cell_type": "markdown",
   "metadata": {},
   "source": [
    "A p-value less than 0.05 (typically ≤ 0.05) is statistically significant. It indicates strong evidence against the null \n",
    "hypothesis, as there is less than a 5% probability the null is correct . Therefore, we reject \n",
    "the null hypothesis, and accept the alternative hypothesis."
   ]
  },
  {
   "cell_type": "markdown",
   "metadata": {},
   "source": [
    "On the Contrary if p-value > 0.05. It Indicates strong evidence for the null Hypothesis. Therefore, we accept the null\n",
    "Hypothesis and reject the alternative."
   ]
  },
  {
   "cell_type": "code",
   "execution_count": null,
   "metadata": {},
   "outputs": [],
   "source": []
  },
  {
   "cell_type": "markdown",
   "metadata": {},
   "source": [
    "#### 5. What is the Probability Distribution Function and how does it work?"
   ]
  },
  {
   "cell_type": "markdown",
   "metadata": {},
   "source": [
    "Probability Distribution Function is the smoothened version of Histogram. It describes all the possible values a random variable \n",
    "can take within a given range.\n",
    "\n",
    "A probability distribution depicts the expected outcomes of possible values for a given data generating process.\n",
    "Probability distributions come in many shapes with different characteristics, as defined by the mean, standard deviation, skewness, and kurtosis.\n"
   ]
  },
  {
   "cell_type": "code",
   "execution_count": null,
   "metadata": {},
   "outputs": [],
   "source": []
  }
 ],
 "metadata": {
  "kernelspec": {
   "display_name": "Python 3",
   "language": "python",
   "name": "python3"
  },
  "language_info": {
   "codemirror_mode": {
    "name": "ipython",
    "version": 3
   },
   "file_extension": ".py",
   "mimetype": "text/x-python",
   "name": "python",
   "nbconvert_exporter": "python",
   "pygments_lexer": "ipython3",
   "version": "3.6.5"
  }
 },
 "nbformat": 4,
 "nbformat_minor": 2
}
