{
 "cells": [
  {
   "cell_type": "markdown",
   "metadata": {},
   "source": [
    "#### 1. How can we figure out what the interquartile range is?1. How can we figure out what the interquartile range is?"
   ]
  },
  {
   "cell_type": "markdown",
   "metadata": {},
   "source": [
    "Interquartile range is difference between 3rd Quartile and 1st Quartile i.e ( Q3- Q1). Where, Q3 is 75th percentile and Q1 is \n",
    "25th Percentile.\n",
    "\n",
    "Q1= (25/100)*(n+1)\n",
    "\n",
    "Q3= (75/100)*(n+1)\n",
    "\n",
    "n: size of data"
   ]
  },
  {
   "cell_type": "code",
   "execution_count": null,
   "metadata": {},
   "outputs": [],
   "source": []
  },
  {
   "cell_type": "markdown",
   "metadata": {},
   "source": [
    "#### 2. What exactly is the value of the 5-number theory?"
   ]
  },
  {
   "cell_type": "markdown",
   "metadata": {},
   "source": [
    "The 5-number theory consists of following:\n",
    "\n",
    "1. Minimum Value\n",
    "2. First Quartile\n",
    "3. Second Quartile (Median)\n",
    "4. Third Quartile \n",
    "5. Maximum Value."
   ]
  },
  {
   "cell_type": "markdown",
   "metadata": {},
   "source": [
    "These Numbers are used to calculate Interquartile range, Lower Fence, Upper Fence and ultimately to find out outliers in \n",
    "the data."
   ]
  },
  {
   "cell_type": "code",
   "execution_count": null,
   "metadata": {},
   "outputs": [],
   "source": []
  },
  {
   "cell_type": "markdown",
   "metadata": {},
   "source": [
    "#### 3. What is the relationship between standard deviation and variance?"
   ]
  },
  {
   "cell_type": "markdown",
   "metadata": {},
   "source": [
    "Std Deviation (sigma) equals to the square root of variance (sigma**2)."
   ]
  },
  {
   "cell_type": "code",
   "execution_count": null,
   "metadata": {},
   "outputs": [],
   "source": []
  },
  {
   "cell_type": "markdown",
   "metadata": {},
   "source": [
    "#### 4. What does the difference between variance and standard deviation mean?"
   ]
  },
  {
   "cell_type": "markdown",
   "metadata": {},
   "source": [
    "Variance is average degree to which each point differs from mean. It is avg of Squared differences from mean.\n",
    "\n",
    "var= sum(( x[i] - mean(x)) ** 2) / (n-1)\n",
    "\n",
    "Whereas, Std Deviation is the spread of the numbers from mean.\n",
    "\n",
    "Both are used to measure dispersion."
   ]
  },
  {
   "cell_type": "code",
   "execution_count": null,
   "metadata": {},
   "outputs": [],
   "source": []
  },
  {
   "cell_type": "markdown",
   "metadata": {},
   "source": [
    "#### 5. When is it appropriate to refer to a skewed data distribution?"
   ]
  },
  {
   "cell_type": "markdown",
   "metadata": {},
   "source": [
    "A Data is said to be skewed if it doesnot have a bell shaped curve on plotting. Instead it has a long tail towards left or right.\n",
    "\n",
    "\n",
    "If the data has a tail towards right it is called as right or positively skewed. Whereas if it has a tail towards the left,\n",
    "the data is said to be left or negatively skewed.\n",
    "\n",
    "In order to perform good, The machine learning algorithms are fitted with normal data distribution (not skewed). Hence, we first \n",
    "transform the data by applying various transformations. For eg: Box-Cox on Pareto Distribution , log transformation on lognormal\n",
    "distribution etc."
   ]
  },
  {
   "cell_type": "code",
   "execution_count": null,
   "metadata": {},
   "outputs": [],
   "source": []
  }
 ],
 "metadata": {
  "kernelspec": {
   "display_name": "Python 3",
   "language": "python",
   "name": "python3"
  },
  "language_info": {
   "codemirror_mode": {
    "name": "ipython",
    "version": 3
   },
   "file_extension": ".py",
   "mimetype": "text/x-python",
   "name": "python",
   "nbconvert_exporter": "python",
   "pygments_lexer": "ipython3",
   "version": "3.6.5"
  }
 },
 "nbformat": 4,
 "nbformat_minor": 2
}
