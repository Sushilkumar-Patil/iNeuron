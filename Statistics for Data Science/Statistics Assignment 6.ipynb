{
 "cells": [
  {
   "cell_type": "markdown",
   "metadata": {},
   "source": [
    "#### 1. What is a Cumulative Distribution Function, and how does it work?"
   ]
  },
  {
   "cell_type": "markdown",
   "metadata": {},
   "source": [
    "Cumulative Distribution Function CDF(x)) is the probability Function that data point X will take a value less than or equal to x.\n",
    "\n",
    "FX(x)=P(X<=x)"
   ]
  },
  {
   "cell_type": "markdown",
   "metadata": {},
   "source": [
    "It is obtained by summing up the probability density function and getting the cumulative probability for a random variable\n",
    "\n",
    "Suppose, 0=<x<=5\n",
    "\n",
    "Then, FX(2)= P(X=0)+P(X=1)+P(X=2)"
   ]
  },
  {
   "cell_type": "code",
   "execution_count": null,
   "metadata": {},
   "outputs": [],
   "source": []
  },
  {
   "cell_type": "markdown",
   "metadata": {},
   "source": [
    "#### 2. When should we use a t-test vs a z-test?"
   ]
  },
  {
   "cell_type": "markdown",
   "metadata": {},
   "source": [
    "z-test is used when population variance is known.\n",
    "\n",
    "When the population Variance is unknown. We check the sample size. \n",
    "\n",
    "9If Sample Size > 30 , Use z-test else Use t-test"
   ]
  },
  {
   "cell_type": "code",
   "execution_count": null,
   "metadata": {},
   "outputs": [],
   "source": []
  },
  {
   "cell_type": "markdown",
   "metadata": {},
   "source": [
    "#### 3. How do we examine two category characteristics?"
   ]
  },
  {
   "cell_type": "markdown",
   "metadata": {},
   "source": [
    "To check the relationship between 2 or more categorical variables we use chi-sq test. Chi-sq test is non-parameric test."
   ]
  },
  {
   "cell_type": "code",
   "execution_count": null,
   "metadata": {},
   "outputs": [],
   "source": []
  },
  {
   "cell_type": "markdown",
   "metadata": {},
   "source": [
    "#### 4. Explain the concept of Chebyshev's Inequality."
   ]
  },
  {
   "cell_type": "markdown",
   "metadata": {},
   "source": [
    "Empirircal formula gives us the probability of data point falling in the 1st or 2nd or 3rd std devaition from the mean.\n",
    "\n",
    "But, this formula is true only for dataset following guassian distribution. If the data doesnot follow gaussian distribution \n",
    "\n",
    "then these probablities are well explained by Chebyshev's Inequality that states:\n",
    "\n",
    "P([myu - k*(sigma)] <= x <= [myu - k*(sigma)]) >= (1 - 1/k**2) \n",
    "\n",
    "Where x doesnot follow guassian distribution and k>=2."
   ]
  },
  {
   "cell_type": "code",
   "execution_count": null,
   "metadata": {},
   "outputs": [],
   "source": []
  },
  {
   "cell_type": "markdown",
   "metadata": {},
   "source": [
    "#### 5. Explain the concept of Pareto Distribution."
   ]
  },
  {
   "cell_type": "markdown",
   "metadata": {},
   "source": [
    "A Dataset is said to follow Pareto Distribution if Data follows the Power Law / 80-20 rule.\n",
    "\n",
    "This Law states that 80 percent of x is explained by 20 percent of y and vice versa.\n",
    "\n",
    "eg: 80 percent of runs scored by RCB in IPL is by 20 percent of the players and remaining 20 percent of the runs are scored by\n",
    "80 percent of the player. \n",
    "\n",
    "Suppose X follows Pareto Distribution,\n",
    "To Convert this data into normal distribution we use box-cox distribution. We calculate the alpha(Height). \n",
    "\n",
    "If alpha != 0  \n",
    "y= ( X**alpha - 1 ) / alpha\n",
    "\n",
    "else:\n",
    "y=loge(x)"
   ]
  },
  {
   "cell_type": "code",
   "execution_count": null,
   "metadata": {},
   "outputs": [],
   "source": []
  },
  {
   "cell_type": "code",
   "execution_count": null,
   "metadata": {},
   "outputs": [],
   "source": []
  },
  {
   "cell_type": "code",
   "execution_count": null,
   "metadata": {},
   "outputs": [],
   "source": []
  }
 ],
 "metadata": {
  "kernelspec": {
   "display_name": "Python 3",
   "language": "python",
   "name": "python3"
  },
  "language_info": {
   "codemirror_mode": {
    "name": "ipython",
    "version": 3
   },
   "file_extension": ".py",
   "mimetype": "text/x-python",
   "name": "python",
   "nbconvert_exporter": "python",
   "pygments_lexer": "ipython3",
   "version": "3.6.5"
  }
 },
 "nbformat": 4,
 "nbformat_minor": 2
}
