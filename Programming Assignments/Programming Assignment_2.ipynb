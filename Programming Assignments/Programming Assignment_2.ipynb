{
 "cells": [
  {
   "cell_type": "markdown",
   "metadata": {},
   "source": [
    "#### 1. Write a Python program to convert kilometers to miles?"
   ]
  },
  {
   "cell_type": "code",
   "execution_count": 1,
   "metadata": {},
   "outputs": [
    {
     "name": "stdout",
     "output_type": "stream",
     "text": [
      "Enter value in kilometers: 5\n",
      "5.0 km equals 3.106855 miles\n"
     ]
    }
   ],
   "source": [
    "kilometers = float(input(\"Enter value in kilometers: \"))\n",
    "\n",
    "miles = kilometers * 0.621371\n",
    "print('{} km equals {} miles'.format(kilometers,miles))"
   ]
  },
  {
   "cell_type": "code",
   "execution_count": null,
   "metadata": {},
   "outputs": [],
   "source": []
  },
  {
   "cell_type": "markdown",
   "metadata": {},
   "source": [
    "#### 2. Write a Python program to convert Celsius to Fahrenheit?"
   ]
  },
  {
   "cell_type": "code",
   "execution_count": 2,
   "metadata": {},
   "outputs": [
    {
     "name": "stdout",
     "output_type": "stream",
     "text": [
      "Enter value in Degree Celsius: 4\n",
      "4.0 celsius equals 39.2 fahrenheit\n"
     ]
    }
   ],
   "source": [
    "celsius = float(input(\"Enter value in Degree Celsius: \"))\n",
    "\n",
    "fahrenheit = (celsius * 1.8) + 32\n",
    "print('{} celsius equals {} fahrenheit'.format(celsius,fahrenheit))"
   ]
  },
  {
   "cell_type": "code",
   "execution_count": null,
   "metadata": {},
   "outputs": [],
   "source": []
  },
  {
   "cell_type": "markdown",
   "metadata": {},
   "source": [
    "#### 3. Write a Python program to display calendar?"
   ]
  },
  {
   "cell_type": "code",
   "execution_count": 4,
   "metadata": {},
   "outputs": [],
   "source": [
    "import calendar"
   ]
  },
  {
   "cell_type": "code",
   "execution_count": 5,
   "metadata": {},
   "outputs": [
    {
     "name": "stdout",
     "output_type": "stream",
     "text": [
      "Enter year: 2022\n",
      "Enter month: 05\n",
      "      May 2022\n",
      "Mo Tu We Th Fr Sa Su\n",
      "                   1\n",
      " 2  3  4  5  6  7  8\n",
      " 9 10 11 12 13 14 15\n",
      "16 17 18 19 20 21 22\n",
      "23 24 25 26 27 28 29\n",
      "30 31\n",
      "\n"
     ]
    }
   ],
   "source": [
    "yyyy = int(input(\"Enter year: \"))\n",
    "mm = int(input(\"Enter month: \"))\n",
    "\n",
    "print(calendar.month(yyyy, mm))"
   ]
  },
  {
   "cell_type": "code",
   "execution_count": null,
   "metadata": {},
   "outputs": [],
   "source": []
  },
  {
   "cell_type": "markdown",
   "metadata": {},
   "source": [
    "#### 4. Write a Python program to solve quadratic equation?"
   ]
  },
  {
   "cell_type": "code",
   "execution_count": 6,
   "metadata": {},
   "outputs": [],
   "source": [
    "from cmath import sqrt"
   ]
  },
  {
   "cell_type": "markdown",
   "metadata": {},
   "source": [
    "Quadratic Equation is of the form a(x^2)+bx+c=0"
   ]
  },
  {
   "cell_type": "code",
   "execution_count": 7,
   "metadata": {
    "scrolled": true
   },
   "outputs": [
    {
     "name": "stdout",
     "output_type": "stream",
     "text": [
      "Enter Value of a: 2\n",
      "Enter Value of b: 1\n",
      "Enter Value of c: -528\n",
      "Roots are Real and Different \n",
      "Roots are (16+0j) and (-16.5+0j)\n"
     ]
    }
   ],
   "source": [
    "a=int(input(\"Enter Value of a: \"))\n",
    "b=int(input(\"Enter Value of b: \"))\n",
    "c=int(input(\"Enter Value of c: \"))\n",
    "d=(b**2)-(4*a*c)\n",
    "\n",
    "\n",
    "if d > 0: \n",
    "    r1= (-b+sqrt(d))/ (2*a)\n",
    "    r2= (-b-sqrt(d))/(2*a )\n",
    "    print(\"Roots are Real and Different \")\n",
    "    print(\"Roots are {} and {}\".format(r1,r2))\n",
    "    \n",
    "elif d==0:\n",
    "    r=-b/(2*a)\n",
    "    print(\"Roots are Real and Same\")\n",
    "    print(\"Root is {}\".format(r))\n",
    "else:\n",
    "    r1= (-b+sqrt(d))/ (2*a)\n",
    "    r2= (-b-sqrt(d))/ (2*a)\n",
    "    print(\"Roots are imaginary\")\n",
    "    print(\"Roots are {} and {}\".format(r1,r2))"
   ]
  },
  {
   "cell_type": "code",
   "execution_count": null,
   "metadata": {},
   "outputs": [],
   "source": []
  },
  {
   "cell_type": "markdown",
   "metadata": {},
   "source": [
    "#### 5. Write a Python program to swap two variables without temp variable?"
   ]
  },
  {
   "cell_type": "code",
   "execution_count": 9,
   "metadata": {},
   "outputs": [
    {
     "name": "stdout",
     "output_type": "stream",
     "text": [
      "x is 20\n",
      "y is 15\n"
     ]
    }
   ],
   "source": [
    "x=15\n",
    "y=20\n",
    "x,y=y,x\n",
    "print(\"x is\",x)\n",
    "print(\"y is\",y)"
   ]
  },
  {
   "cell_type": "code",
   "execution_count": null,
   "metadata": {},
   "outputs": [],
   "source": []
  }
 ],
 "metadata": {
  "kernelspec": {
   "display_name": "Python 3",
   "language": "python",
   "name": "python3"
  },
  "language_info": {
   "codemirror_mode": {
    "name": "ipython",
    "version": 3
   },
   "file_extension": ".py",
   "mimetype": "text/x-python",
   "name": "python",
   "nbconvert_exporter": "python",
   "pygments_lexer": "ipython3",
   "version": "3.6.5"
  }
 },
 "nbformat": 4,
 "nbformat_minor": 2
}
