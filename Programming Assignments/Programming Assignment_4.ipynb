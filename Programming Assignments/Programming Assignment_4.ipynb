{
 "cells": [
  {
   "cell_type": "markdown",
   "metadata": {},
   "source": [
    "#### 1. Write a Python Program to Find the Factorial of a Number?"
   ]
  },
  {
   "cell_type": "code",
   "execution_count": 1,
   "metadata": {},
   "outputs": [
    {
     "name": "stdout",
     "output_type": "stream",
     "text": [
      "Enter a Number: 5\n",
      "Factorial of 5 is 120\n"
     ]
    }
   ],
   "source": [
    "n=int(input(\"Enter a Number: \"))\n",
    "fact=1\n",
    "for i in range(1,n+1):\n",
    "    fact=fact*i\n",
    "print(f'Factorial of {n} is {fact}')"
   ]
  },
  {
   "cell_type": "markdown",
   "metadata": {},
   "source": [
    "OR"
   ]
  },
  {
   "cell_type": "code",
   "execution_count": 2,
   "metadata": {
    "scrolled": true
   },
   "outputs": [
    {
     "name": "stdout",
     "output_type": "stream",
     "text": [
      "Enter a Number: 10\n",
      "Factorial of 10 is 3628800\n"
     ]
    }
   ],
   "source": [
    "n=int(input(\"Enter a Number: \"))\n",
    "fact=1\n",
    "j=1\n",
    "while j<=n:\n",
    "    fact*=j\n",
    "    j+=1\n",
    "print(f'Factorial of {n} is {fact}')"
   ]
  },
  {
   "cell_type": "code",
   "execution_count": null,
   "metadata": {},
   "outputs": [],
   "source": []
  },
  {
   "cell_type": "markdown",
   "metadata": {},
   "source": [
    "#### 2. Write a Python Program to Display the multiplication Table?"
   ]
  },
  {
   "cell_type": "code",
   "execution_count": 3,
   "metadata": {},
   "outputs": [
    {
     "name": "stdout",
     "output_type": "stream",
     "text": [
      "Enter a Number: 25\n",
      "25 * 1 = 25\n",
      "25 * 2 = 50\n",
      "25 * 3 = 75\n",
      "25 * 4 = 100\n",
      "25 * 5 = 125\n",
      "25 * 6 = 150\n",
      "25 * 7 = 175\n",
      "25 * 8 = 200\n",
      "25 * 9 = 225\n",
      "25 * 10 = 250\n"
     ]
    }
   ],
   "source": [
    "n=int(input(\"Enter a Number: \"))\n",
    "j=1\n",
    "while j<=10:\n",
    "    mult=j*n\n",
    "    print(f\"{n} * {j} = {mult}\")\n",
    "    j+=1"
   ]
  },
  {
   "cell_type": "code",
   "execution_count": null,
   "metadata": {},
   "outputs": [],
   "source": []
  },
  {
   "cell_type": "markdown",
   "metadata": {},
   "source": [
    "#### 3. Write a Python Program to Print the Fibonacci sequence?"
   ]
  },
  {
   "cell_type": "code",
   "execution_count": 4,
   "metadata": {},
   "outputs": [
    {
     "name": "stdout",
     "output_type": "stream",
     "text": [
      "Enter Number of fib terms: 8\n",
      "0 1 1 2 3 5 8 13 "
     ]
    }
   ],
   "source": [
    "count=0\n",
    "x,y= 0,1\n",
    "n=int(input(\"Enter Number of fib terms: \"))\n",
    "while count <n:\n",
    "    print(x, end=\" \")\n",
    "    fib=x+y\n",
    "    x=y\n",
    "    y=fib\n",
    "    count+=1"
   ]
  },
  {
   "cell_type": "code",
   "execution_count": null,
   "metadata": {},
   "outputs": [],
   "source": []
  },
  {
   "cell_type": "markdown",
   "metadata": {},
   "source": [
    "#### 4. Write a Python Program to Check Armstrong Number?"
   ]
  },
  {
   "cell_type": "markdown",
   "metadata": {},
   "source": [
    "Number is amstrong if every sum of every digit raised to length of number equals to the number itself."
   ]
  },
  {
   "cell_type": "code",
   "execution_count": 5,
   "metadata": {},
   "outputs": [
    {
     "name": "stdout",
     "output_type": "stream",
     "text": [
      "Enter a Number: 153\n",
      "Number is an Armstrong Number\n"
     ]
    }
   ],
   "source": [
    "n=int(input(\"Enter a Number: \"))    \n",
    "l=len(str(n))                        \n",
    "ss=0\n",
    "for i in str(n):\n",
    "    s=int(i)**l\n",
    "    ss+=s\n",
    "if ss==n:\n",
    "    print(\"Number is an Armstrong Number\")\n",
    "else:\n",
    "    print(\"Number is not an Armstrong Number\")"
   ]
  },
  {
   "cell_type": "code",
   "execution_count": 6,
   "metadata": {},
   "outputs": [
    {
     "name": "stdout",
     "output_type": "stream",
     "text": [
      "Enter a Number: 217\n",
      "Number is not an Armstrong Number\n"
     ]
    }
   ],
   "source": [
    "n=int(input(\"Enter a Number: \"))    \n",
    "l=len(str(n))                        \n",
    "ss=0\n",
    "for i in str(n):\n",
    "    s=int(i)**l\n",
    "    ss+=s\n",
    "if ss==n:\n",
    "    print(\"Number is an Armstrong Number\")\n",
    "else:\n",
    "    print(\"Number is not an Armstrong Number\")"
   ]
  },
  {
   "cell_type": "code",
   "execution_count": null,
   "metadata": {},
   "outputs": [],
   "source": []
  },
  {
   "cell_type": "markdown",
   "metadata": {},
   "source": [
    "#### 5. Write a Python Program to Find Armstrong Number in an Interval?"
   ]
  },
  {
   "cell_type": "code",
   "execution_count": 7,
   "metadata": {},
   "outputs": [
    {
     "name": "stdout",
     "output_type": "stream",
     "text": [
      "Enter the start of the range: 100\n",
      "Enter the start of the range: 9000\n",
      "153, 370, 371, 407, 1634, 8208, "
     ]
    }
   ],
   "source": [
    "start=int(input(\"Enter the start of the range: \"))    \n",
    "stop=int(input(\"Enter the start of the range: \"))    \n",
    "\n",
    "for i in range(start,stop):\n",
    "    l=len(str(i))                        \n",
    "    ss=0\n",
    "    for j in str(i):\n",
    "        s=int(j)**l\n",
    "        ss+=s\n",
    "    if ss==i:\n",
    "        print(ss, end=\", \")"
   ]
  },
  {
   "cell_type": "code",
   "execution_count": null,
   "metadata": {},
   "outputs": [],
   "source": []
  },
  {
   "cell_type": "markdown",
   "metadata": {},
   "source": [
    "#### 6. Write a Python Program to Find the Sum of Natural Numbers?"
   ]
  },
  {
   "cell_type": "code",
   "execution_count": 8,
   "metadata": {},
   "outputs": [
    {
     "name": "stdout",
     "output_type": "stream",
     "text": [
      "Enter the Value of Natural number: 10\n",
      "Sum of the Natural Numbers is 55\n"
     ]
    }
   ],
   "source": [
    "n=int(input(\"Enter the Value of Natural number: \"))\n",
    "\n",
    "if n<=0:\n",
    "    print(\" Enter a Positive Number\")\n",
    "else:\n",
    "    sum=0\n",
    "    while n>0:\n",
    "        sum+=n\n",
    "        n-=1\n",
    "print('Sum of the Natural Numbers is {}'.format(sum))"
   ]
  },
  {
   "cell_type": "code",
   "execution_count": null,
   "metadata": {},
   "outputs": [],
   "source": []
  }
 ],
 "metadata": {
  "kernelspec": {
   "display_name": "Python 3",
   "language": "python",
   "name": "python3"
  },
  "language_info": {
   "codemirror_mode": {
    "name": "ipython",
    "version": 3
   },
   "file_extension": ".py",
   "mimetype": "text/x-python",
   "name": "python",
   "nbconvert_exporter": "python",
   "pygments_lexer": "ipython3",
   "version": "3.6.5"
  }
 },
 "nbformat": 4,
 "nbformat_minor": 2
}
