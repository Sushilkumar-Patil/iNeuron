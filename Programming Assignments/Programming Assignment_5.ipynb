{
 "cells": [
  {
   "cell_type": "markdown",
   "metadata": {},
   "source": [
    "#### 1. Write a Python Program to Find LCM?"
   ]
  },
  {
   "cell_type": "code",
   "execution_count": 1,
   "metadata": {},
   "outputs": [],
   "source": [
    "def lcm(a,b):\n",
    "    l=[]\n",
    "    x=min(a,b)\n",
    "    for i in range(1,x+1):\n",
    "        if a%i==0 and b%i==0:\n",
    "            l.append(i)\n",
    "            gcd=max(l)\n",
    "    lc=(a*b)/gcd\n",
    "    return lc"
   ]
  },
  {
   "cell_type": "code",
   "execution_count": 2,
   "metadata": {},
   "outputs": [
    {
     "data": {
      "text/plain": [
       "420.0"
      ]
     },
     "execution_count": 2,
     "metadata": {},
     "output_type": "execute_result"
    }
   ],
   "source": [
    "lcm(30,140)"
   ]
  },
  {
   "cell_type": "code",
   "execution_count": 3,
   "metadata": {},
   "outputs": [],
   "source": [
    "from functools import reduce"
   ]
  },
  {
   "cell_type": "code",
   "execution_count": 4,
   "metadata": {},
   "outputs": [
    {
     "data": {
      "text/plain": [
       "840.0"
      ]
     },
     "execution_count": 4,
     "metadata": {},
     "output_type": "execute_result"
    }
   ],
   "source": [
    "reduce(lcm,[120,30,56,42])"
   ]
  },
  {
   "cell_type": "code",
   "execution_count": null,
   "metadata": {},
   "outputs": [],
   "source": []
  },
  {
   "cell_type": "markdown",
   "metadata": {},
   "source": [
    "#### 2. Write a Python Program to Find HCF?"
   ]
  },
  {
   "cell_type": "code",
   "execution_count": 5,
   "metadata": {},
   "outputs": [],
   "source": [
    "def hcf(a,b):   \n",
    "    while b:\n",
    "        a,b=b,a%b   \n",
    "    return a"
   ]
  },
  {
   "cell_type": "code",
   "execution_count": 6,
   "metadata": {},
   "outputs": [
    {
     "data": {
      "text/plain": [
       "105"
      ]
     },
     "execution_count": 6,
     "metadata": {},
     "output_type": "execute_result"
    }
   ],
   "source": [
    "hcf(210,105)"
   ]
  },
  {
   "cell_type": "code",
   "execution_count": 8,
   "metadata": {},
   "outputs": [
    {
     "data": {
      "text/plain": [
       "3"
      ]
     },
     "execution_count": 8,
     "metadata": {},
     "output_type": "execute_result"
    }
   ],
   "source": [
    "reduce(hcf,[90,93,78,45])"
   ]
  },
  {
   "cell_type": "code",
   "execution_count": null,
   "metadata": {},
   "outputs": [],
   "source": []
  },
  {
   "cell_type": "markdown",
   "metadata": {},
   "source": [
    "#### 3. Write a Python Program to Convert Decimal to Binary, Octal and Hexadecimal?"
   ]
  },
  {
   "cell_type": "code",
   "execution_count": 9,
   "metadata": {},
   "outputs": [],
   "source": [
    "def conv():\n",
    "    n=int(input(\"Enter a Number: \"))\n",
    "    ch=input(\"Enter the conversion preferred 'bin' or 'oct' or 'hexd': \")\n",
    "    if ch=='bin':\n",
    "        return bin(n)\n",
    "    elif ch=='oct':\n",
    "        return oct(n)\n",
    "    else: \n",
    "        return hex(n)"
   ]
  },
  {
   "cell_type": "code",
   "execution_count": 10,
   "metadata": {
    "scrolled": true
   },
   "outputs": [
    {
     "name": "stdout",
     "output_type": "stream",
     "text": [
      "Enter a Number: 6\n",
      "Enter the conversion preferred 'bin' or 'oct' or 'hexd': hexd\n"
     ]
    },
    {
     "data": {
      "text/plain": [
       "'0x6'"
      ]
     },
     "execution_count": 10,
     "metadata": {},
     "output_type": "execute_result"
    }
   ],
   "source": [
    "conv()"
   ]
  },
  {
   "cell_type": "code",
   "execution_count": null,
   "metadata": {},
   "outputs": [],
   "source": []
  },
  {
   "cell_type": "markdown",
   "metadata": {},
   "source": [
    "#### 4. Write a Python Program To Find ASCII value of a character?"
   ]
  },
  {
   "cell_type": "code",
   "execution_count": 11,
   "metadata": {},
   "outputs": [],
   "source": [
    "def ascii_value():\n",
    "    ch=input(\"Enter a character\")\n",
    "    r=ord(ch)\n",
    "    return 'ASCII Value of {} is {}'.format(ch,r)"
   ]
  },
  {
   "cell_type": "code",
   "execution_count": 12,
   "metadata": {},
   "outputs": [
    {
     "name": "stdout",
     "output_type": "stream",
     "text": [
      "Enter a characterA\n"
     ]
    },
    {
     "data": {
      "text/plain": [
       "'ASCII Value of A is 65'"
      ]
     },
     "execution_count": 12,
     "metadata": {},
     "output_type": "execute_result"
    }
   ],
   "source": [
    "ascii_value()"
   ]
  },
  {
   "cell_type": "code",
   "execution_count": null,
   "metadata": {},
   "outputs": [],
   "source": []
  },
  {
   "cell_type": "markdown",
   "metadata": {},
   "source": [
    "#### 5. Write a Python Program to Make a Simple Calculator with 4 basic mathematical operations?"
   ]
  },
  {
   "cell_type": "code",
   "execution_count": 13,
   "metadata": {},
   "outputs": [],
   "source": [
    "def calc(a,b):\n",
    "    print('Press 1 for add, Press 2 for subtraction, Press 3 for multiplication, Press 4 for division.')\n",
    "    ch=int(input(\"Enter your Choice: \"))\n",
    "    \n",
    "    def add(a,b):\n",
    "        x=a+b\n",
    "        return 'Addition of {} and {} is {}'.format(a,b,x)\n",
    "\n",
    "    def sub(a,b):\n",
    "        x=a-b\n",
    "        return 'Subtraction of {} and {} is {}'.format(a,b,x)\n",
    "\n",
    "    def mul(a,b):\n",
    "        x=a*b\n",
    "        return 'Multiplication of {} and {} is {}'.format(a,b,x)\n",
    "\n",
    "    def div(a,b):\n",
    "        x=a/b\n",
    "        return 'Division of {} and {} is {}'.format(a,b,x)\n",
    "\n",
    "    if ch==1:\n",
    "        return add(a,b)\n",
    "    elif ch==2:\n",
    "        return sub(a,b)\n",
    "    elif ch==3:\n",
    "        return mul(a,b)\n",
    "    else:\n",
    "        return div(a,b)\n"
   ]
  },
  {
   "cell_type": "code",
   "execution_count": 14,
   "metadata": {
    "scrolled": true
   },
   "outputs": [
    {
     "name": "stdout",
     "output_type": "stream",
     "text": [
      "Press 1 for add, Press 2 for subtraction, Press 3 for multiplication, Press 4 for division.\n",
      "Enter your Choice: 3\n"
     ]
    },
    {
     "data": {
      "text/plain": [
       "'Multiplication of 10 and 20 is 200'"
      ]
     },
     "execution_count": 14,
     "metadata": {},
     "output_type": "execute_result"
    }
   ],
   "source": [
    "calc(10,20)"
   ]
  },
  {
   "cell_type": "code",
   "execution_count": null,
   "metadata": {},
   "outputs": [],
   "source": []
  }
 ],
 "metadata": {
  "kernelspec": {
   "display_name": "Python 3",
   "language": "python",
   "name": "python3"
  },
  "language_info": {
   "codemirror_mode": {
    "name": "ipython",
    "version": 3
   },
   "file_extension": ".py",
   "mimetype": "text/x-python",
   "name": "python",
   "nbconvert_exporter": "python",
   "pygments_lexer": "ipython3",
   "version": "3.6.5"
  }
 },
 "nbformat": 4,
 "nbformat_minor": 2
}
