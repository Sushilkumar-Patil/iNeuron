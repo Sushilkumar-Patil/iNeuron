{
 "cells": [
  {
   "cell_type": "markdown",
   "metadata": {},
   "source": [
    "####  1. In the below elements which of them are values or an expression? eg:- values can be integer or string and expressions will be mathematical operators.\n",
    "\n",
    "     *                : Expression\n",
    "\n",
    "     'hello'          : Value\n",
    "\n",
    "     -87.8            : Value\n",
    "\n",
    "     -                : Expression\n",
    "\n",
    "     /                : Expression     \n",
    "    \n",
    "     +                : Expression\n",
    "\n",
    "     6                : Value"
   ]
  },
  {
   "cell_type": "code",
   "execution_count": null,
   "metadata": {},
   "outputs": [],
   "source": []
  },
  {
   "cell_type": "markdown",
   "metadata": {},
   "source": [
    "### 2. What is the difference between string and variable?\n",
    "\n",
    "String is a data type which can take set of homogenous or heterogenous values all toghether. String is immutable.\n",
    "\n",
    "Variable is a space where we store the information."
   ]
  },
  {
   "cell_type": "code",
   "execution_count": null,
   "metadata": {},
   "outputs": [],
   "source": []
  },
  {
   "cell_type": "markdown",
   "metadata": {},
   "source": [
    "### Describe three different data types.\n",
    "Following are examples of data types:\n",
    "\n",
    "1 Integer: Integer are values in form of 1, 2, 3\n",
    "\n",
    "2 Float: Float are values in the form of 1.0, 2.0, 5.7, 9.8\n",
    "\n",
    "3 Complex: These are values in form of 5+9j where 5 is real value and 9 is imaginary value."
   ]
  },
  {
   "cell_type": "code",
   "execution_count": null,
   "metadata": {},
   "outputs": [],
   "source": []
  },
  {
   "cell_type": "markdown",
   "metadata": {},
   "source": [
    "### What is an expression made up of? What do all expressions do?\n",
    "\n",
    "Expressions are made of variable, values and arithmetic operators which performs operations on the given values accordingly and gives us a resut value."
   ]
  },
  {
   "cell_type": "code",
   "execution_count": null,
   "metadata": {},
   "outputs": [],
   "source": []
  },
  {
   "cell_type": "markdown",
   "metadata": {},
   "source": [
    "### 5. This assignment statements, like spam = 10. What is the difference between an expression and a statement?\n",
    "\n",
    "Expression are made up of variable values and operations which basically performs calculations and gives us a final value.\n",
    "\n",
    "Whereas Statement performs tasks like assigning a value or printing value etc."
   ]
  },
  {
   "cell_type": "code",
   "execution_count": null,
   "metadata": {},
   "outputs": [],
   "source": []
  },
  {
   "cell_type": "markdown",
   "metadata": {},
   "source": [
    "### 6. After running the following code, what does the variable bacon contain?  bacon = 22   bacon + 1\n",
    "\n",
    "bacon= 22 , Because bacon+1 is performed in a different storage location and original value of bacon is still 22"
   ]
  },
  {
   "cell_type": "code",
   "execution_count": null,
   "metadata": {},
   "outputs": [],
   "source": []
  },
  {
   "cell_type": "markdown",
   "metadata": {},
   "source": [
    "### 7. What should the values of the following two terms be?     'spam' + 'spamspam'   and   'spam'* 3\n",
    "\n",
    "'spam'+'spamspam' = 'spamspamspam'\n",
    "\n",
    "'spam'*3 = 'spamspamspam'"
   ]
  },
  {
   "cell_type": "code",
   "execution_count": null,
   "metadata": {},
   "outputs": [],
   "source": []
  },
  {
   "cell_type": "markdown",
   "metadata": {},
   "source": [
    "### 8. Why is eggs a valid variable name while 100 is invalid?\n",
    "\n",
    "Variable name can start with either charachter or underscore. 100 is integer value and hence can't be assigned as variable name."
   ]
  },
  {
   "cell_type": "code",
   "execution_count": null,
   "metadata": {},
   "outputs": [],
   "source": []
  },
  {
   "cell_type": "markdown",
   "metadata": {},
   "source": [
    "### 9. What three functions can be used to get the integer, floating-point number, or string version of a value?\n",
    "\n",
    "The functions are:\n",
    "int() , float() , str()"
   ]
  },
  {
   "cell_type": "code",
   "execution_count": null,
   "metadata": {},
   "outputs": [],
   "source": []
  },
  {
   "cell_type": "markdown",
   "metadata": {},
   "source": [
    "### 10. Why does this expression cause an error? How can you fix it?  'I have eaten' + 99 + 'burritos'\n",
    "\n",
    "Here 99 is in form of int which cant be added to string. Hence we need to change it to string by writing it in quotes.\n",
    "\n",
    "'I have eaten' + '99' + 'burritos'"
   ]
  }
 ],
 "metadata": {
  "kernelspec": {
   "display_name": "Python 3",
   "language": "python",
   "name": "python3"
  },
  "language_info": {
   "codemirror_mode": {
    "name": "ipython",
    "version": 3
   },
   "file_extension": ".py",
   "mimetype": "text/x-python",
   "name": "python",
   "nbconvert_exporter": "python",
   "pygments_lexer": "ipython3",
   "version": "3.6.5"
  }
 },
 "nbformat": 4,
 "nbformat_minor": 2
}
